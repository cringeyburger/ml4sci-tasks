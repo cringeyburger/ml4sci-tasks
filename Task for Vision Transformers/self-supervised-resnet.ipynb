{
 "cells": [
  {
   "cell_type": "markdown",
   "id": "81ea6429",
   "metadata": {},
   "source": [
    "# Self-Supervised ResNet-15"
   ]
  },
  {
   "cell_type": "markdown",
   "id": "76f496f1",
   "metadata": {},
   "source": [
    "We are given two datasets, `unlabelled` with only features 'jet' of shape (60000, 125, 125, 8), and `labelled` with two features 'jet' and 'Y' of shapes (10000, 125 125, 8) and (10000, 1)"
   ]
  },
  {
   "cell_type": "markdown",
   "id": "f0f46276",
   "metadata": {},
   "source": [
    "In this notebook, we make a Self-Supervised ResNet-15 following the Barlow Twins training scheme. "
   ]
  },
  {
   "cell_type": "code",
   "execution_count": null,
   "id": "0162929f",
   "metadata": {
    "execution": {
     "iopub.execute_input": "2025-04-04T09:38:32.162107Z",
     "iopub.status.busy": "2025-04-04T09:38:32.161817Z",
     "iopub.status.idle": "2025-04-04T09:38:32.219382Z",
     "shell.execute_reply": "2025-04-04T09:38:32.218813Z",
     "shell.execute_reply.started": "2025-04-04T09:38:32.162087Z"
    },
    "papermill": {
     "duration": 2.18792,
     "end_time": "2025-04-03T09:55:13.051800",
     "exception": false,
     "start_time": "2025-04-03T09:55:10.863880",
     "status": "completed"
    },
    "tags": [],
    "trusted": true
   },
   "outputs": [],
   "source": [
    "# import os\n",
    "# import wandb\n",
    "# from kaggle_secrets import UserSecretsClient\n",
    "\n",
    "# user_secrets = UserSecretsClient()\n",
    "# os.environ[\"WANDB_API_KEY\"] = user_secrets.get_secret(\"wandb-key\")"
   ]
  },
  {
   "cell_type": "code",
   "execution_count": null,
   "id": "8c42fe7f-29cf-46a0-af0d-2d52dda5f824",
   "metadata": {
    "execution": {
     "iopub.execute_input": "2025-04-04T09:38:34.084847Z",
     "iopub.status.busy": "2025-04-04T09:38:34.084500Z",
     "iopub.status.idle": "2025-04-04T09:38:37.112704Z",
     "shell.execute_reply": "2025-04-04T09:38:37.111872Z",
     "shell.execute_reply.started": "2025-04-04T09:38:34.084819Z"
    },
    "trusted": true
   },
   "outputs": [],
   "source": [
    "import os\n",
    "import gc\n",
    "import threading\n",
    "import time\n",
    "import h5py\n",
    "import torch\n",
    "import torch.nn as nn\n",
    "import numpy as np\n",
    "import wandb\n",
    "from torch.utils.data import Dataset, DataLoader\n",
    "from torch.amp import autocast, GradScaler\n",
    "from tqdm import tqdm\n",
    "\n",
    "os.environ[\"PYTORCH_CUDA_ALLOC_CONF\"] = \"expandable_segments:True\""
   ]
  },
  {
   "cell_type": "markdown",
   "id": "f2307cca",
   "metadata": {},
   "source": [
    "In the paper, it is given that we are required to augment the training data with meaningful transformations. The following classes are responsible for loading and augmenting the dataset. "
   ]
  },
  {
   "cell_type": "code",
   "execution_count": null,
   "id": "f8e4e66d-ba6a-42b4-8373-73afc0d38b45",
   "metadata": {
    "execution": {
     "iopub.execute_input": "2025-04-04T09:38:37.114361Z",
     "iopub.status.busy": "2025-04-04T09:38:37.113864Z",
     "iopub.status.idle": "2025-04-04T09:38:37.130782Z",
     "shell.execute_reply": "2025-04-04T09:38:37.129826Z",
     "shell.execute_reply.started": "2025-04-04T09:38:37.114324Z"
    },
    "trusted": true
   },
   "outputs": [],
   "source": [
    "class JetDataset(Dataset):\n",
    "    def __init__(self, h5_path, transform=None, num_samples=None):\n",
    "        self.h5_path = h5_path\n",
    "        self.transform = transform\n",
    "        self.file = None\n",
    "\n",
    "        # Get dataset size without loading everything\n",
    "        with h5py.File(self.h5_path, \"r\") as f:\n",
    "            self.length = f[\"jet\"].shape[0]\n",
    "            self.sample_shape = f[\"jet\"].shape[1:]\n",
    "\n",
    "        if num_samples is not None:\n",
    "            self.length = min(self.length, num_samples)\n",
    "\n",
    "    def _get_file(self):\n",
    "        if self.file is None:\n",
    "            self.file = h5py.File(self.h5_path, \"r\", swmr=True)  # Open in SWMR mode\n",
    "        return self.file\n",
    "\n",
    "    def __len__(self):\n",
    "        return self.length\n",
    "\n",
    "    def __getitem__(self, idx):\n",
    "        # Load a single sample on demand\n",
    "        f = self._get_file()\n",
    "        x = f[\"jet\"][idx]\n",
    "\n",
    "        # Convert to tensor\n",
    "        x = torch.from_numpy(x).float()\n",
    "\n",
    "        # Apply two different augmentations for Barlow Twins\n",
    "        if self.transform:\n",
    "            x1 = self.transform(x, is_hard=False)\n",
    "            x2 = self.transform(x, is_hard=True)\n",
    "            return x1, x2\n",
    "\n",
    "        return x\n",
    "\n",
    "    def __del__(self):\n",
    "        \"\"\"Ensure the file is closed properly when dataset is deleted.\"\"\"\n",
    "        if self.file is not None:\n",
    "            self.file.close()\n",
    "            self.file = None\n",
    "\n",
    "\n",
    "class JetTransform:\n",
    "    def __init__(self):\n",
    "        pass\n",
    "\n",
    "    def __call__(self, x, is_hard=False):\n",
    "        # x shape: (125, 125, 8)\n",
    "\n",
    "        # Base augmentations for all views\n",
    "        # Random flip\n",
    "        if torch.rand(1) > 0.5:\n",
    "            x = torch.flip(x, [0])  # Horizontal flip\n",
    "        if torch.rand(1) > 0.5:\n",
    "            x = torch.flip(x, [1])  # Vertical flip\n",
    "\n",
    "        # Random rotation (90, 180, 270 degrees)\n",
    "        rot_choice = torch.randint(0, 4, (1,)).item()\n",
    "        if rot_choice > 0:\n",
    "            x = torch.rot90(x, k=rot_choice, dims=[0, 1])\n",
    "\n",
    "        # Additional harder augmentations for the second view\n",
    "        if is_hard:\n",
    "            # Stronger noise\n",
    "            noise = torch.randn_like(x) * 0.05  # Increased from 0.02\n",
    "            x = x + noise\n",
    "\n",
    "            # Random cutout (set random small patches to 0) - more aggressive\n",
    "            h, w = x.shape[0], x.shape[1]\n",
    "            # Multiple cutouts for harder augmentation\n",
    "            for _ in range(2):\n",
    "                if torch.rand(1) > 0.3:  # Increased probability\n",
    "                    size = int(min(h, w) * 0.2)  # Larger patch size (20% vs 15%)\n",
    "                    # Random patch coordinates\n",
    "                    top = torch.randint(0, h - size + 1, (1,)).item()\n",
    "                    left = torch.randint(0, w - size + 1, (1,)).item()\n",
    "                    # Apply cutout\n",
    "                    x[top : top + size, left : left + size, :] = 0\n",
    "\n",
    "            # Random intensity scaling\n",
    "            if torch.rand(1) > 0.5:\n",
    "                scale_factor = torch.FloatTensor(1).uniform_(0.8, 1.2)\n",
    "                x = x * scale_factor\n",
    "\n",
    "        else:\n",
    "            # Lighter augmentations for the first view\n",
    "            if torch.rand(1) > 0.5:\n",
    "                noise = torch.randn_like(x) * 0.02\n",
    "                x = x + noise\n",
    "\n",
    "            # Single smaller cutout with lower probability\n",
    "            if torch.rand(1) > 0.7:\n",
    "                h, w = x.shape[0], x.shape[1]\n",
    "                size = int(min(h, w) * 0.15)\n",
    "                top = torch.randint(0, h - size + 1, (1,)).item()\n",
    "                left = torch.randint(0, w - size + 1, (1,)).item()\n",
    "                x[top : top + size, left : left + size, :] = 0\n",
    "\n",
    "        return x"
   ]
  },
  {
   "cell_type": "markdown",
   "id": "6a8404b0",
   "metadata": {},
   "source": [
    "From here, we start building the actual ResNet-15 model"
   ]
  },
  {
   "cell_type": "code",
   "execution_count": null,
   "id": "9a6491f1-34a1-49e3-8d93-d2713085e40c",
   "metadata": {
    "execution": {
     "iopub.execute_input": "2025-04-04T09:38:40.713805Z",
     "iopub.status.busy": "2025-04-04T09:38:40.713494Z",
     "iopub.status.idle": "2025-04-04T09:38:40.729301Z",
     "shell.execute_reply": "2025-04-04T09:38:40.728566Z",
     "shell.execute_reply.started": "2025-04-04T09:38:40.713780Z"
    },
    "trusted": true
   },
   "outputs": [],
   "source": [
    "class ResidualBlock(nn.Module):\n",
    "    def __init__(self, in_channels, out_channels, stride=1):\n",
    "        super().__init__()\n",
    "        self.conv1 = nn.Conv2d(\n",
    "            in_channels,\n",
    "            out_channels,\n",
    "            kernel_size=3,\n",
    "            stride=stride,\n",
    "            padding=1,\n",
    "            bias=False,\n",
    "        )\n",
    "        self.bn1 = nn.BatchNorm2d(out_channels)\n",
    "        self.conv2 = nn.Conv2d(\n",
    "            out_channels, out_channels, kernel_size=3, stride=1, padding=1, bias=False\n",
    "        )\n",
    "        self.bn2 = nn.BatchNorm2d(out_channels)\n",
    "        self.relu = nn.ReLU(inplace=True)\n",
    "\n",
    "        self.shortcut = nn.Sequential()\n",
    "        if stride != 1 or in_channels != out_channels:\n",
    "            self.shortcut = nn.Sequential(\n",
    "                nn.Conv2d(\n",
    "                    in_channels, out_channels, kernel_size=1, stride=stride, bias=False\n",
    "                ),\n",
    "                nn.BatchNorm2d(out_channels),\n",
    "            )\n",
    "\n",
    "    def forward(self, x):\n",
    "        out = self.relu(self.bn1(self.conv1(x)))\n",
    "        out = self.bn2(self.conv2(out))\n",
    "        out += self.shortcut(x)\n",
    "        out = self.relu(out)\n",
    "        return out\n",
    "\n",
    "\n",
    "class ResNet15(nn.Module):\n",
    "    def __init__(self, in_channels=8, num_blocks=None):\n",
    "        super().__init__()\n",
    "        if num_blocks is None:\n",
    "            num_blocks = [2, 2, 2, 1]\n",
    "        self.in_channels = 64\n",
    "\n",
    "        self.conv1 = nn.Conv2d(\n",
    "            in_channels, 64, kernel_size=3, stride=1, padding=1, bias=False\n",
    "        )\n",
    "        self.bn1 = nn.BatchNorm2d(64)\n",
    "        self.relu = nn.ReLU(inplace=True)\n",
    "\n",
    "        # 4 layers with num_blocks residual blocks each\n",
    "        self.layer1 = self._make_layer(64, num_blocks[0], stride=1)\n",
    "        self.layer2 = self._make_layer(128, num_blocks[1], stride=2)\n",
    "        self.layer3 = self._make_layer(256, num_blocks[2], stride=2)\n",
    "        self.layer4 = self._make_layer(512, num_blocks[3], stride=2)\n",
    "\n",
    "        self.avgpool = nn.AdaptiveAvgPool2d((1, 1))\n",
    "\n",
    "    def _make_layer(self, out_channels, num_blocks, stride):\n",
    "        strides = [stride] + [1] * (num_blocks - 1)\n",
    "        layers = []\n",
    "        for stride in strides:\n",
    "            layers.append(ResidualBlock(self.in_channels, out_channels, stride))\n",
    "            self.in_channels = out_channels\n",
    "        return nn.Sequential(*layers)\n",
    "\n",
    "    def forward(self, x):\n",
    "        # Input shape: (B, 125, 125, 8)\n",
    "        # Rearrange to: (B, 8, 125, 125)\n",
    "        x = x.permute(0, 3, 1, 2)\n",
    "\n",
    "        out = self.relu(self.bn1(self.conv1(x)))\n",
    "        out = self.layer1(out)\n",
    "        out = self.layer2(out)\n",
    "        out = self.layer3(out)\n",
    "        out = self.layer4(out)\n",
    "\n",
    "        out = self.avgpool(out)\n",
    "        out = out.view(out.size(0), -1)\n",
    "        return out\n",
    "\n",
    "\n",
    "# Barlow Twins Components\n",
    "class BarlowTwinsProjectionHead(nn.Module):\n",
    "    def __init__(self, input_dim=512, hidden_dim=1024, output_dim=1024):\n",
    "        super().__init__()\n",
    "        self.projection = nn.Sequential(\n",
    "            nn.Linear(input_dim, hidden_dim),\n",
    "            nn.BatchNorm1d(hidden_dim),\n",
    "            nn.ReLU(inplace=True),\n",
    "            nn.Linear(hidden_dim, hidden_dim),\n",
    "            nn.BatchNorm1d(hidden_dim),\n",
    "            nn.ReLU(inplace=True),\n",
    "            nn.Linear(hidden_dim, output_dim),\n",
    "        )\n",
    "\n",
    "    def forward(self, x):\n",
    "        return self.projection(x)\n",
    "\n",
    "\n",
    "def off_diagonal(x):\n",
    "    n, m = x.shape\n",
    "    assert n == m\n",
    "    return x.flatten()[:-1].view(n - 1, n + 1)[:, 1:].flatten()\n",
    "\n",
    "\n",
    "class BarlowTwinsLoss(nn.Module):\n",
    "    def __init__(self, lambda_coeff=5e-3):\n",
    "        super().__init__()\n",
    "        self.lambda_coeff = lambda_coeff\n",
    "\n",
    "    def forward(self, z1, z2):\n",
    "        # Normalize along the batch dimension\n",
    "        z1_norm = (z1 - z1.mean(0)) / (z1.std(0) + 1e-5)\n",
    "        z2_norm = (z2 - z2.mean(0)) / (z2.std(0) + 1e-5)\n",
    "\n",
    "        batch_size = z1.size(0)\n",
    "\n",
    "        # Cross-correlation matrix\n",
    "        c = torch.matmul(z1_norm.T, z2_norm) / batch_size\n",
    "\n",
    "        # Loss computation\n",
    "        on_diag = torch.diagonal(c).add_(-1).pow_(2).sum()\n",
    "        off_diag = off_diagonal(c).pow_(2).sum()\n",
    "\n",
    "        loss = on_diag + self.lambda_coeff * off_diag\n",
    "        return loss, on_diag, off_diag  # Return components for logging\n",
    "\n",
    "\n",
    "# Complete Barlow Twins Model\n",
    "class BarlowTwinsModel(nn.Module):\n",
    "    def __init__(self):\n",
    "        super().__init__()\n",
    "        self.backbone = ResNet15(in_channels=8)\n",
    "        self.projection_head = BarlowTwinsProjectionHead(\n",
    "            input_dim=512, hidden_dim=1024, output_dim=1024\n",
    "        )\n",
    "        self.criterion = BarlowTwinsLoss(lambda_coeff=5e-3)\n",
    "\n",
    "    def forward(self, x):\n",
    "        features = self.backbone(x)\n",
    "        projections = self.projection_head(features)\n",
    "        return projections\n",
    "\n",
    "    def training_step(self, batch):\n",
    "        x1, x2 = batch\n",
    "\n",
    "        z1 = self.forward(x1)\n",
    "        z2 = self.forward(x2)\n",
    "\n",
    "        loss, on_diag, off_diag = self.criterion(z1, z2)\n",
    "        return loss, on_diag, off_diag\n",
    "\n",
    "    def validation_step(self, batch):\n",
    "        # For early stopping validation\n",
    "        return self.training_step(batch)\n"
   ]
  },
  {
   "cell_type": "markdown",
   "id": "68a01f0b",
   "metadata": {},
   "source": [
    "We define early stopping class and a checkpointer"
   ]
  },
  {
   "cell_type": "code",
   "execution_count": null,
   "id": "be5d5288",
   "metadata": {},
   "outputs": [],
   "source": [
    "class EarlyStoppingAfterWarmup:\n",
    "    \"\"\"Early stopping with a warmup period to avoid stopping during LR ramp-up\"\"\"\n",
    "\n",
    "    def __init__(self, patience=5, min_delta=0, warmup_epochs=5):\n",
    "        self.patience = patience\n",
    "        self.min_delta = min_delta\n",
    "        self.warmup_epochs = warmup_epochs\n",
    "        self.counter = 0\n",
    "        self.best_loss = float(\"inf\")\n",
    "        self.early_stop = False\n",
    "\n",
    "    def __call__(self, epoch, val_loss):\n",
    "        if epoch < self.warmup_epochs:\n",
    "            return False\n",
    "\n",
    "        if val_loss < self.best_loss - self.min_delta:\n",
    "            self.best_loss = val_loss\n",
    "            self.counter = 0\n",
    "        else:\n",
    "            self.counter += 1\n",
    "            print(f\"Early stopping counter: {self.counter}/{self.patience}\")\n",
    "            wandb.log({\"early_stopping_counter\": self.counter})\n",
    "            if self.counter >= self.patience:\n",
    "                print(\n",
    "                    f\"Early stopping triggered! No improvement for {self.patience} epochs.\"\n",
    "                )\n",
    "                self.early_stop = True\n",
    "                return True\n",
    "        return False\n",
    "\n",
    "\n",
    "class AsyncCheckpointer:\n",
    "    \"\"\"Performs checkpointing asynchronously in a separate thread\"\"\"\n",
    "\n",
    "    def __init__(self, save_dir=\"checkpoints\"):\n",
    "        self.save_dir = save_dir\n",
    "        os.makedirs(self.save_dir, exist_ok=True)\n",
    "        self.current_thread = None\n",
    "\n",
    "    def save_checkpoint(self, state, filename):\n",
    "        \n",
    "        # Wait for any previous checkpointing to finish\n",
    "        if self.current_thread is not None and self.current_thread.is_alive():\n",
    "            self.current_thread.join()\n",
    "\n",
    "        # Create a new thread for saving\n",
    "        self.current_thread = threading.Thread(\n",
    "            target=self._save_checkpoint_thread, args=(state, filename)\n",
    "        )\n",
    "        self.current_thread.start()\n",
    "\n",
    "    def _save_checkpoint_thread(self, state, filename):\n",
    "        try:\n",
    "            filepath = os.path.join(self.save_dir, filename)\n",
    "            \n",
    "            # First save to a temporary file\n",
    "            tmp_filepath = filepath + \".tmp\"\n",
    "            torch.save(state, tmp_filepath)\n",
    "            \n",
    "            # Then rename to the actual file (atomic operation)\n",
    "            if os.path.exists(filepath):\n",
    "                os.remove(filepath)\n",
    "            os.rename(tmp_filepath, filepath)\n",
    "            print(f\"Checkpoint saved: {filename}\")\n",
    "\n",
    "            # Log the checkpoint to wandb\n",
    "            wandb.save(filepath)\n",
    "\n",
    "            # Create a wandb artifact for the model checkpoint\n",
    "            artifact = wandb.Artifact(\n",
    "                name=f\"model-{filename}\",\n",
    "                type=\"model\",\n",
    "                description=f\"Model checkpoint at {filename}\",\n",
    "            )\n",
    "            artifact.add_file(filepath)\n",
    "            wandb.log_artifact(artifact)\n",
    "\n",
    "        except Exception as e:\n",
    "            print(f\"Error saving checkpoint: {e}\")\n"
   ]
  },
  {
   "cell_type": "code",
   "execution_count": null,
   "id": "a6cf7ee2-413b-4850-9b9e-17c705c367cb",
   "metadata": {
    "execution": {
     "iopub.execute_input": "2025-04-04T09:38:44.651405Z",
     "iopub.status.busy": "2025-04-04T09:38:44.651105Z",
     "iopub.status.idle": "2025-04-04T09:38:44.659207Z",
     "shell.execute_reply": "2025-04-04T09:38:44.658238Z",
     "shell.execute_reply.started": "2025-04-04T09:38:44.651379Z"
    },
    "trusted": true
   },
   "outputs": [],
   "source": [
    "def super_convergence_scheduler(epoch, total_epochs=30):\n",
    "    \"\"\"\n",
    "    Implements the super-convergence learning rate schedule\n",
    "    \"\"\"\n",
    "    base_lr = 1e-4  # Starting LR\n",
    "    max_lr = 3e-3  # Maximum LR\n",
    "    min_lr = 5e-5  # Minimum LR before final cooldown\n",
    "\n",
    "    # Phase 1: Warmup from base_lr to max_lr (30% of training)\n",
    "    if epoch < 0.3 * total_epochs:\n",
    "        return base_lr + (max_lr - base_lr) * (epoch / (0.3 * total_epochs))\n",
    "    # Phase 2: Cosine annealing from max_lr to min_lr (60% of training)\n",
    "    elif epoch < 0.9 * total_epochs:\n",
    "        # Normalize epoch to 0-1 range for this phase\n",
    "        normalized_epoch = (epoch - 0.3 * total_epochs) / (0.6 * total_epochs)\n",
    "        return min_lr + 0.5 * (max_lr - min_lr) * (1 + np.cos(np.pi * normalized_epoch))\n",
    "    # Phase 3: Final cooldown from min_lr to near-zero (10% of training)\n",
    "    else:\n",
    "        # Normalize epoch to 0-1 range for this phase\n",
    "        normalized_epoch = (epoch - 0.9 * total_epochs) / (0.1 * total_epochs)\n",
    "        return min_lr * (1 - normalized_epoch)\n",
    "\n",
    "\n",
    "def create_validation_dataloader(dataset, batch_size, num_samples=1000):\n",
    "    \"\"\"Create a small validation set from the training data\"\"\"\n",
    "    # Create indices for validation\n",
    "    val_indices = torch.randperm(len(dataset))[:num_samples]\n",
    "\n",
    "    # Create a subset of the dataset for validation\n",
    "    val_dataset = torch.utils.data.Subset(dataset, val_indices)\n",
    "\n",
    "    # Create dataloader\n",
    "    val_loader = DataLoader(\n",
    "        val_dataset,\n",
    "        batch_size=batch_size,\n",
    "        shuffle=False,\n",
    "        num_workers=2,\n",
    "        pin_memory=True,\n",
    "    )\n",
    "\n",
    "    return val_loader\n",
    "\n",
    "\n",
    "def validate(model, val_loader, device):\n",
    "    \"\"\"Run validation on a batch of data\"\"\"\n",
    "    model.eval()\n",
    "    val_loss = 0.0\n",
    "    on_diag_sum = 0.0\n",
    "    off_diag_sum = 0.0\n",
    "\n",
    "    with torch.no_grad():\n",
    "        for batch in val_loader:\n",
    "            batch = [x.to(device) for x in batch]\n",
    "            with autocast(\"cuda\"):\n",
    "                loss, on_diag, off_diag = model.validation_step(batch)\n",
    "            val_loss += loss.item()\n",
    "            on_diag_sum += on_diag.item()\n",
    "            off_diag_sum += off_diag.item()\n",
    "\n",
    "    model.train()\n",
    "    return (\n",
    "        val_loss / len(val_loader),\n",
    "        on_diag_sum / len(val_loader),\n",
    "        off_diag_sum / len(val_loader),\n",
    "    )"
   ]
  },
  {
   "cell_type": "markdown",
   "id": "3cc96a3f",
   "metadata": {},
   "source": [
    "Now, the main training loop. We are training with mixed precision to speed it up."
   ]
  },
  {
   "cell_type": "code",
   "execution_count": null,
   "id": "2c2d5811",
   "metadata": {
    "execution": {
     "iopub.execute_input": "2025-04-03T09:55:13.057004Z",
     "iopub.status.busy": "2025-04-03T09:55:13.056737Z",
     "iopub.status.idle": "2025-04-03T13:16:11.444719Z",
     "shell.execute_reply": "2025-04-03T13:16:11.443877Z"
    },
    "papermill": {
     "duration": 12058.393769,
     "end_time": "2025-04-03T13:16:11.447713",
     "exception": false,
     "start_time": "2025-04-03T09:55:13.053944",
     "status": "completed"
    },
    "tags": []
   },
   "outputs": [
    {
     "name": "stderr",
     "output_type": "stream",
     "text": [
      "\u001b[34m\u001b[1mwandb\u001b[0m: Using wandb-core as the SDK backend.  Please refer to https://wandb.me/wandb-core for more information.\n",
      "\u001b[34m\u001b[1mwandb\u001b[0m: Currently logged in as: \u001b[33mankittriescoding\u001b[0m (\u001b[33mankittriescoding-indian-institute-of-technology-kharagpur\u001b[0m). Use \u001b[1m`wandb login --relogin`\u001b[0m to force relogin\n",
      "\u001b[34m\u001b[1mwandb\u001b[0m: Tracking run with wandb version 0.19.1\n",
      "\u001b[34m\u001b[1mwandb\u001b[0m: Run data is saved locally in \u001b[35m\u001b[1m/kaggle/working/wandb/run-20250403_095517-f8yw81as\u001b[0m\n",
      "\u001b[34m\u001b[1mwandb\u001b[0m: Run \u001b[1m`wandb offline`\u001b[0m to turn off syncing.\n",
      "\u001b[34m\u001b[1mwandb\u001b[0m: Syncing run \u001b[33mbarlow-twins-jet-data\u001b[0m\n",
      "\u001b[34m\u001b[1mwandb\u001b[0m: ⭐️ View project at \u001b[34m\u001b[4mhttps://wandb.ai/ankittriescoding-indian-institute-of-technology-kharagpur/barlow-twins-resnet15\u001b[0m\n",
      "\u001b[34m\u001b[1mwandb\u001b[0m: 🚀 View run at \u001b[34m\u001b[4mhttps://wandb.ai/ankittriescoding-indian-institute-of-technology-kharagpur/barlow-twins-resnet15/runs/f8yw81as\u001b[0m\n"
     ]
    },
    {
     "name": "stdout",
     "output_type": "stream",
     "text": [
      "Using device: cuda\n",
      "Using 2 data loader workers based on 4 CPUs\n"
     ]
    },
    {
     "name": "stderr",
     "output_type": "stream",
     "text": [
      "Epoch 1/30: 100%|██████████| 938/938 [10:59<00:00,  1.42it/s, loss=140, lr=0.000100]\n"
     ]
    },
    {
     "name": "stdout",
     "output_type": "stream",
     "text": [
      "Epoch 1/30 - Train Loss: 140.0518 - Val Loss: 126.5455 - LR: 0.000100\n",
      "Checkpoint saved: barlow_twins_best.pt\n"
     ]
    },
    {
     "name": "stderr",
     "output_type": "stream",
     "text": [
      "Epoch 2/30: 100%|██████████| 938/938 [10:56<00:00,  1.43it/s, loss=106, lr=0.000422]\n"
     ]
    },
    {
     "name": "stdout",
     "output_type": "stream",
     "text": [
      "Epoch 2/30 - Train Loss: 105.9351 - Val Loss: 116.5946 - LR: 0.000422\n",
      "Checkpoint saved: barlow_twins_best.pt\n"
     ]
    },
    {
     "name": "stderr",
     "output_type": "stream",
     "text": [
      "Epoch 3/30: 100%|██████████| 938/938 [10:56<00:00,  1.43it/s, loss=101, lr=0.000744]\n"
     ]
    },
    {
     "name": "stdout",
     "output_type": "stream",
     "text": [
      "Epoch 3/30 - Train Loss: 100.9820 - Val Loss: 108.3888 - LR: 0.000744\n",
      "Checkpoint saved: barlow_twins_best.pt\n"
     ]
    },
    {
     "name": "stderr",
     "output_type": "stream",
     "text": [
      "Epoch 4/30: 100%|██████████| 938/938 [10:57<00:00,  1.43it/s, loss=97.2, lr=0.001067]\n"
     ]
    },
    {
     "name": "stdout",
     "output_type": "stream",
     "text": [
      "Epoch 4/30 - Train Loss: 97.2099 - Val Loss: 105.2844 - LR: 0.001067\n",
      "Checkpoint saved: barlow_twins_best.pt\n"
     ]
    },
    {
     "name": "stderr",
     "output_type": "stream",
     "text": [
      "Epoch 5/30: 100%|██████████| 938/938 [10:57<00:00,  1.43it/s, loss=94.4, lr=0.001389]\n"
     ]
    },
    {
     "name": "stdout",
     "output_type": "stream",
     "text": [
      "Epoch 5/30 - Train Loss: 94.3983 - Val Loss: 103.9144 - LR: 0.001389\n",
      "Checkpoint saved: barlow_twins_best.pt\n",
      "Checkpoint saved: barlow_twins_resnet15_epoch5.pt\n"
     ]
    },
    {
     "name": "stderr",
     "output_type": "stream",
     "text": [
      "Epoch 6/30: 100%|██████████| 938/938 [10:57<00:00,  1.43it/s, loss=93.3, lr=0.001711]\n"
     ]
    },
    {
     "name": "stdout",
     "output_type": "stream",
     "text": [
      "Epoch 6/30 - Train Loss: 93.2811 - Val Loss: 105.5006 - LR: 0.001711\n"
     ]
    },
    {
     "name": "stderr",
     "output_type": "stream",
     "text": [
      "Epoch 7/30: 100%|██████████| 938/938 [10:57<00:00,  1.43it/s, loss=93.1, lr=0.002033]\n"
     ]
    },
    {
     "name": "stdout",
     "output_type": "stream",
     "text": [
      "Epoch 7/30 - Train Loss: 93.0775 - Val Loss: 110.4829 - LR: 0.002033\n"
     ]
    },
    {
     "name": "stderr",
     "output_type": "stream",
     "text": [
      "Epoch 8/30: 100%|██████████| 938/938 [10:57<00:00,  1.43it/s, loss=92.4, lr=0.002356]\n"
     ]
    },
    {
     "name": "stdout",
     "output_type": "stream",
     "text": [
      "Epoch 8/30 - Train Loss: 92.3706 - Val Loss: 99.9348 - LR: 0.002356\n",
      "Checkpoint saved: barlow_twins_best.pt\n"
     ]
    },
    {
     "name": "stderr",
     "output_type": "stream",
     "text": [
      "Epoch 9/30: 100%|██████████| 938/938 [10:57<00:00,  1.43it/s, loss=91.8, lr=0.002678]\n"
     ]
    },
    {
     "name": "stdout",
     "output_type": "stream",
     "text": [
      "Epoch 9/30 - Train Loss: 91.8457 - Val Loss: 100.9075 - LR: 0.002678\n"
     ]
    },
    {
     "name": "stderr",
     "output_type": "stream",
     "text": [
      "Epoch 10/30: 100%|██████████| 938/938 [10:57<00:00,  1.43it/s, loss=91.6, lr=0.003000]\n"
     ]
    },
    {
     "name": "stdout",
     "output_type": "stream",
     "text": [
      "Epoch 10/30 - Train Loss: 91.5668 - Val Loss: 100.4657 - LR: 0.003000\n",
      "Checkpoint saved: barlow_twins_resnet15_epoch10.pt\n"
     ]
    },
    {
     "name": "stderr",
     "output_type": "stream",
     "text": [
      "Epoch 11/30: 100%|██████████| 938/938 [10:57<00:00,  1.43it/s, loss=90.3, lr=0.002978]\n"
     ]
    },
    {
     "name": "stdout",
     "output_type": "stream",
     "text": [
      "Epoch 11/30 - Train Loss: 90.3400 - Val Loss: 99.5314 - LR: 0.002978\n",
      "Checkpoint saved: barlow_twins_best.pt\n"
     ]
    },
    {
     "name": "stderr",
     "output_type": "stream",
     "text": [
      "Epoch 12/30: 100%|██████████| 938/938 [10:57<00:00,  1.43it/s, loss=89.6, lr=0.002911]\n"
     ]
    },
    {
     "name": "stdout",
     "output_type": "stream",
     "text": [
      "Epoch 12/30 - Train Loss: 89.6125 - Val Loss: 112.0947 - LR: 0.002911\n",
      "Early stopping counter: 1/4\n"
     ]
    },
    {
     "name": "stderr",
     "output_type": "stream",
     "text": [
      "Epoch 13/30: 100%|██████████| 938/938 [10:57<00:00,  1.43it/s, loss=88.9, lr=0.002802]\n"
     ]
    },
    {
     "name": "stdout",
     "output_type": "stream",
     "text": [
      "Epoch 13/30 - Train Loss: 88.9471 - Val Loss: 102.6259 - LR: 0.002802\n",
      "Early stopping counter: 2/4\n"
     ]
    },
    {
     "name": "stderr",
     "output_type": "stream",
     "text": [
      "Epoch 14/30: 100%|██████████| 938/938 [10:57<00:00,  1.43it/s, loss=88.1, lr=0.002655]\n"
     ]
    },
    {
     "name": "stdout",
     "output_type": "stream",
     "text": [
      "Epoch 14/30 - Train Loss: 88.1191 - Val Loss: 98.9569 - LR: 0.002655\n",
      "Checkpoint saved: barlow_twins_best.pt\n"
     ]
    },
    {
     "name": "stderr",
     "output_type": "stream",
     "text": [
      "Epoch 15/30: 100%|██████████| 938/938 [10:57<00:00,  1.43it/s, loss=87.3, lr=0.002473]\n"
     ]
    },
    {
     "name": "stdout",
     "output_type": "stream",
     "text": [
      "Epoch 15/30 - Train Loss: 87.3062 - Val Loss: 115.1848 - LR: 0.002473\n",
      "Early stopping counter: 1/4\n",
      "Checkpoint saved: barlow_twins_resnet15_epoch15.pt\n"
     ]
    },
    {
     "name": "stderr",
     "output_type": "stream",
     "text": [
      "Epoch 16/30: 100%|██████████| 938/938 [10:57<00:00,  1.43it/s, loss=86.6, lr=0.002263]\n"
     ]
    },
    {
     "name": "stdout",
     "output_type": "stream",
     "text": [
      "Epoch 16/30 - Train Loss: 86.5693 - Val Loss: 117.6125 - LR: 0.002263\n",
      "Early stopping counter: 2/4\n"
     ]
    },
    {
     "name": "stderr",
     "output_type": "stream",
     "text": [
      "Epoch 17/30: 100%|██████████| 938/938 [10:57<00:00,  1.43it/s, loss=85.6, lr=0.002029]\n"
     ]
    },
    {
     "name": "stdout",
     "output_type": "stream",
     "text": [
      "Epoch 17/30 - Train Loss: 85.6136 - Val Loss: 189.4366 - LR: 0.002029\n",
      "Early stopping counter: 3/4\n"
     ]
    },
    {
     "name": "stderr",
     "output_type": "stream",
     "text": [
      "Epoch 18/30: 100%|██████████| 938/938 [10:57<00:00,  1.43it/s, loss=85, lr=0.001781]\n"
     ]
    },
    {
     "name": "stdout",
     "output_type": "stream",
     "text": [
      "Epoch 18/30 - Train Loss: 84.9952 - Val Loss: 110.5056 - LR: 0.001781\n",
      "Early stopping counter: 4/4\n",
      "Early stopping triggered! No improvement for 4 epochs.\n",
      "Early stopping triggered at epoch 18\n",
      "Training completed in 200.73 minutes! Final model saved.\n"
     ]
    },
    {
     "name": "stderr",
     "output_type": "stream",
     "text": [
      "\u001b[34m\u001b[1mwandb\u001b[0m: uploading artifact model-final\n",
      "\u001b[34m\u001b[1mwandb\u001b[0m: uploading checkpoints/barlow_twins_resnet15_epoch5.pt; uploading checkpoints/barlow_twins_resnet15_epoch10.pt; uploading checkpoints/barlow_twins_resnet15_epoch15.pt; uploading checkpoints/barlow_twins_best.pt\n",
      "\u001b[34m\u001b[1mwandb\u001b[0m:                                                                                \n",
      "\u001b[34m\u001b[1mwandb\u001b[0m: \n",
      "\u001b[34m\u001b[1mwandb\u001b[0m: Run history:\n",
      "\u001b[34m\u001b[1mwandb\u001b[0m:                  batch ▁▁▁▂▂▂▂▂▃▃▃▃▃▃▄▄▄▄▄▄▄▄▅▅▅▅▆▆▆▆▆▆▆▆▆▇████\n",
      "\u001b[34m\u001b[1mwandb\u001b[0m:             batch_loss █▅▃▃▄▃▃▃▃▂▃▂▃▂▂▃▂▃▂▂▂▂▂▂▂▂▂▂▂▂▂▁▁▂▁▁▁▁▁▁\n",
      "\u001b[34m\u001b[1mwandb\u001b[0m:    batch_off_diag_loss █▃▂▂▂▂▂▁▁▁▁▁▁▁▁▁▁▁▁▁▁▁▁▁▁▁▁▁▁▁▁▁▁▁▁▁▁▁▁▁\n",
      "\u001b[34m\u001b[1mwandb\u001b[0m:     batch_on_diag_loss █▂▂▂▂▁▁▁▁▁▁▁▁▁▁▁▁▁▁▁▁▁▁▁▁▁▁▁▁▁▁▁▁▁▁▁▁▁▁▁\n",
      "\u001b[34m\u001b[1mwandb\u001b[0m: early_stopping_counter ▁▃▁▃▆█\n",
      "\u001b[34m\u001b[1mwandb\u001b[0m:                  epoch ▁▁▁▁▂▂▂▂▃▃▃▃▃▃▄▄▄▄▅▅▅▅▆▆▆▆▆▆▇▇▇▇████\n",
      "\u001b[34m\u001b[1mwandb\u001b[0m:          learning_rate ▁▂▃▃▄▅▆▆▇████▇▇▆▆▅\n",
      "\u001b[34m\u001b[1mwandb\u001b[0m:             train_loss █▄▃▃▂▂▂▂▂▂▂▂▂▁▁▁▁▁\n",
      "\u001b[34m\u001b[1mwandb\u001b[0m:    train_off_diag_loss █▄▄▃▃▂▂▂▂▂▂▂▂▂▁▁▁▁\n",
      "\u001b[34m\u001b[1mwandb\u001b[0m:     train_on_diag_loss █▃▂▂▂▂▂▁▁▁▁▁▁▁▁▁▁▁\n",
      "\u001b[34m\u001b[1mwandb\u001b[0m:               val_loss ▃▂▂▁▁▂▂▁▁▁▁▂▁▁▂▂█▂\n",
      "\u001b[34m\u001b[1mwandb\u001b[0m:      val_off_diag_loss ▃▂▂▁▁▁▂▁▁▁▁▂▁▁▂▂█▂\n",
      "\u001b[34m\u001b[1mwandb\u001b[0m:       val_on_diag_loss █▅▃▃▃▃▂▃▂▂▂▄▂▁▁▁▁▁\n",
      "\u001b[34m\u001b[1mwandb\u001b[0m: \n",
      "\u001b[34m\u001b[1mwandb\u001b[0m: Run summary:\n",
      "\u001b[34m\u001b[1mwandb\u001b[0m:                  batch 16876\n",
      "\u001b[34m\u001b[1mwandb\u001b[0m:             batch_loss 85.46841\n",
      "\u001b[34m\u001b[1mwandb\u001b[0m:    batch_off_diag_loss 16852.08984\n",
      "\u001b[34m\u001b[1mwandb\u001b[0m:     batch_on_diag_loss 1.20796\n",
      "\u001b[34m\u001b[1mwandb\u001b[0m:             best_epoch 13\n",
      "\u001b[34m\u001b[1mwandb\u001b[0m:          best_val_loss 98.95687\n",
      "\u001b[34m\u001b[1mwandb\u001b[0m: early_stopping_counter 4\n",
      "\u001b[34m\u001b[1mwandb\u001b[0m:                  epoch 17\n",
      "\u001b[34m\u001b[1mwandb\u001b[0m:          learning_rate 0.00178\n",
      "\u001b[34m\u001b[1mwandb\u001b[0m:          stopped_epoch 17\n",
      "\u001b[34m\u001b[1mwandb\u001b[0m:             train_loss 84.99519\n",
      "\u001b[34m\u001b[1mwandb\u001b[0m:    train_off_diag_loss 16795.53961\n",
      "\u001b[34m\u001b[1mwandb\u001b[0m:     train_on_diag_loss 1.0175\n",
      "\u001b[34m\u001b[1mwandb\u001b[0m:  training_time_minutes 200.73202\n",
      "\u001b[34m\u001b[1mwandb\u001b[0m:               val_loss 110.50556\n",
      "\u001b[34m\u001b[1mwandb\u001b[0m:      val_off_diag_loss 21897.42798\n",
      "\u001b[34m\u001b[1mwandb\u001b[0m:       val_on_diag_loss 1.01843\n",
      "\u001b[34m\u001b[1mwandb\u001b[0m: \n",
      "\u001b[34m\u001b[1mwandb\u001b[0m: 🚀 View run \u001b[33mbarlow-twins-jet-data\u001b[0m at: \u001b[34m\u001b[4mhttps://wandb.ai/ankittriescoding-indian-institute-of-technology-kharagpur/barlow-twins-resnet15/runs/f8yw81as\u001b[0m\n",
      "\u001b[34m\u001b[1mwandb\u001b[0m: ⭐️ View project at: \u001b[34m\u001b[4mhttps://wandb.ai/ankittriescoding-indian-institute-of-technology-kharagpur/barlow-twins-resnet15\u001b[0m\n",
      "\u001b[34m\u001b[1mwandb\u001b[0m: Synced 5 W&B file(s), 0 media file(s), 26 artifact file(s) and 5 other file(s)\n",
      "\u001b[34m\u001b[1mwandb\u001b[0m: Find logs at: \u001b[35m\u001b[1m./wandb/run-20250403_095517-f8yw81as/logs\u001b[0m\n"
     ]
    }
   ],
   "source": [
    "def main():\n",
    "    wandb.init(\n",
    "        project=\"barlow-twins-resnet15\",\n",
    "        name=\"barlow-twins-jet-data\",\n",
    "        config={\n",
    "            \"architecture\": \"ResNet15\",\n",
    "            \"dataset\": \"unlabelled.h5\",\n",
    "            \"epochs\": 30,\n",
    "            \"batch_size\": 64,\n",
    "            \"optimizer\": \"AdamW\",\n",
    "            \"weight_decay\": 0.05,\n",
    "            \"scheduler\": \"super_convergence\",\n",
    "            \"base_lr\": 1e-4,\n",
    "            \"max_lr\": 3e-3,\n",
    "            \"min_lr\": 5e-5,\n",
    "            \"lambda_coeff\": 5e-3,\n",
    "            \"projection_dim\": 1024,\n",
    "        },\n",
    "    )\n",
    "\n",
    "    # Set device\n",
    "    device = torch.device(\"cuda\" if torch.cuda.is_available() else \"cpu\")\n",
    "    print(f\"Using device: {device}\")\n",
    "    wandb.config.update({\"device\": str(device)})\n",
    "\n",
    "    # Create model and move to device\n",
    "    model = BarlowTwinsModel().to(device)\n",
    "\n",
    "    # Set up wandb to watch the model\n",
    "    wandb.watch(model, log=\"all\", log_freq=100)\n",
    "\n",
    "    # Set up dataset with augmentations\n",
    "    transform = JetTransform()\n",
    "    dataset = JetDataset(\"/kaggle/input/jet-vit-cms/unlabelled.h5\", transform=transform)\n",
    "    wandb.config.update({\"dataset_size\": len(dataset)})\n",
    "\n",
    "    # Get CPU count for workers\n",
    "    cpu_count = os.cpu_count()\n",
    "    num_workers = max(1, cpu_count - 2)  # Leaving some CPUs free\n",
    "    print(f\"Using {num_workers} data loader workers based on {cpu_count} CPUs\")\n",
    "    wandb.config.update({\"num_workers\": num_workers})\n",
    "\n",
    "    # Set batch size\n",
    "    batch_size = 64\n",
    "    wandb.config.update({\"batch_size\": batch_size})\n",
    "\n",
    "    # Create data loader\n",
    "    dataloader = DataLoader(\n",
    "        dataset,\n",
    "        batch_size=batch_size,\n",
    "        shuffle=True,\n",
    "        num_workers=num_workers,\n",
    "        pin_memory=True if torch.cuda.is_available() else False,\n",
    "        persistent_workers=True if num_workers > 0 else False,\n",
    "    )\n",
    "\n",
    "    # Create a small validation set for early stopping\n",
    "    val_dataloader = create_validation_dataloader(dataset, batch_size=batch_size)\n",
    "\n",
    "    # Optimizer is AdamW with weight decay\n",
    "    optimizer = torch.optim.AdamW(model.parameters(), lr=1e-4, weight_decay=0.05)\n",
    "\n",
    "    # Set up Super-Convergence learning rate scheduler\n",
    "    total_epochs = 30\n",
    "\n",
    "    # Set up early stopping after warmup\n",
    "    early_stopping = EarlyStoppingAfterWarmup(\n",
    "        patience=4, min_delta=0.001, warmup_epochs=9\n",
    "    )\n",
    "\n",
    "    # Set up async checkpointer\n",
    "    checkpointer = AsyncCheckpointer()\n",
    "\n",
    "    # Set up mixed precision training\n",
    "    scaler = GradScaler()\n",
    "\n",
    "    # Start timing the training\n",
    "    start_time = time.time()\n",
    "\n",
    "    # Training loop\n",
    "    model.train()\n",
    "    best_val_loss = float(\"inf\")\n",
    "\n",
    "    # Create a wandb Table for tracking validation results\n",
    "    validation_table = wandb.Table(\n",
    "        columns=[\n",
    "            \"epoch\",\n",
    "            \"train_loss\",\n",
    "            \"val_loss\",\n",
    "            \"on_diag_loss\",\n",
    "            \"off_diag_loss\",\n",
    "            \"lr\",\n",
    "        ]\n",
    "    )\n",
    "\n",
    "    for epoch in range(total_epochs):\n",
    "        \n",
    "        # Update learning rate according to super convergence schedule\n",
    "        current_lr = super_convergence_scheduler(epoch, total_epochs)\n",
    "        for param_group in optimizer.param_groups:\n",
    "            param_group[\"lr\"] = current_lr\n",
    "\n",
    "        # Log the current LR\n",
    "        wandb.log({\"learning_rate\": current_lr, \"epoch\": epoch})\n",
    "\n",
    "        # Training progress bar (tqdm)\n",
    "        progress_bar = tqdm(\n",
    "            enumerate(dataloader),\n",
    "            total=len(dataloader),\n",
    "            desc=f\"Epoch {epoch + 1}/{total_epochs}\",\n",
    "        )\n",
    "\n",
    "        epoch_loss = 0.0\n",
    "        epoch_on_diag = 0.0\n",
    "        epoch_off_diag = 0.0\n",
    "\n",
    "        for batch_idx, batch in progress_bar:\n",
    "            \n",
    "            # Move batch to device\n",
    "            batch = [x.to(device) for x in batch]\n",
    "\n",
    "            # Zero gradients\n",
    "            optimizer.zero_grad()\n",
    "\n",
    "            # Forward pass with mixed precision\n",
    "            with autocast(\"cuda\"):\n",
    "                loss, on_diag, off_diag = model.training_step(batch)\n",
    "\n",
    "            # Backward pass with gradient scaling\n",
    "            scaler.scale(loss).backward()\n",
    "            scaler.step(optimizer)\n",
    "            scaler.update()\n",
    "\n",
    "            # Update statistics\n",
    "            epoch_loss += loss.item()\n",
    "            epoch_on_diag += on_diag.item()\n",
    "            epoch_off_diag += off_diag.item()\n",
    "\n",
    "            # Update progress bar\n",
    "            progress_bar.set_postfix(\n",
    "                {\"loss\": epoch_loss / (batch_idx + 1), \"lr\": f\"{current_lr:.6f}\"}\n",
    "            )\n",
    "\n",
    "            # Log batch metrics to wandb every few batches\n",
    "            if batch_idx % 10 == 0:\n",
    "                wandb.log(\n",
    "                    {\n",
    "                        \"batch_loss\": loss.item(),\n",
    "                        \"batch_on_diag_loss\": on_diag.item(),\n",
    "                        \"batch_off_diag_loss\": off_diag.item(),\n",
    "                        \"batch\": batch_idx + epoch * len(dataloader),\n",
    "                    }\n",
    "                )\n",
    "\n",
    "        # Calculate average epoch loss\n",
    "        avg_train_loss = epoch_loss / len(dataloader)\n",
    "        avg_on_diag = epoch_on_diag / len(dataloader)\n",
    "        avg_off_diag = epoch_off_diag / len(dataloader)\n",
    "\n",
    "        # Calculate validation loss for early stopping\n",
    "        val_loss, val_on_diag, val_off_diag = validate(model, val_dataloader, device)\n",
    "\n",
    "        # Log epoch metrics to wandb\n",
    "        wandb.log(\n",
    "            {\n",
    "                \"train_loss\": avg_train_loss,\n",
    "                \"val_loss\": val_loss,\n",
    "                \"train_on_diag_loss\": avg_on_diag,\n",
    "                \"train_off_diag_loss\": avg_off_diag,\n",
    "                \"val_on_diag_loss\": val_on_diag,\n",
    "                \"val_off_diag_loss\": val_off_diag,\n",
    "                \"epoch\": epoch,\n",
    "            }\n",
    "        )\n",
    "\n",
    "        # Add data to validation table\n",
    "        validation_table.add_data(\n",
    "            epoch, avg_train_loss, val_loss, val_on_diag, val_off_diag, current_lr\n",
    "        )\n",
    "\n",
    "        print(\n",
    "            f\"Epoch {epoch + 1}/{total_epochs} - Train Loss: {avg_train_loss:.4f} - Val Loss: {val_loss:.4f} - LR: {current_lr:.6f}\"\n",
    "        )\n",
    "\n",
    "        # Save checkpoint only if it's the best model so far\n",
    "        if val_loss < best_val_loss:\n",
    "            best_val_loss = val_loss\n",
    "            checkpointer.save_checkpoint(\n",
    "                {\n",
    "                    \"epoch\": epoch,\n",
    "                    \"model_state_dict\": model.state_dict(),\n",
    "                    \"optimizer_state_dict\": optimizer.state_dict(),\n",
    "                    \"loss\": best_val_loss,\n",
    "                },\n",
    "                \"barlow_twins_best.pt\",\n",
    "            )\n",
    "\n",
    "            # Log the best model to wandb\n",
    "            wandb.run.summary[\"best_val_loss\"] = best_val_loss\n",
    "            wandb.run.summary[\"best_epoch\"] = epoch\n",
    "\n",
    "        # Check for early stopping (but not during warmup phase)\n",
    "        if early_stopping(epoch, val_loss):\n",
    "            print(f\"Early stopping triggered at epoch {epoch + 1}\")\n",
    "            wandb.run.summary[\"stopped_epoch\"] = epoch\n",
    "            break\n",
    "\n",
    "        # Save regular checkpoint every 5 epochs\n",
    "        if (epoch + 1) % 5 == 0:\n",
    "            checkpointer.save_checkpoint(\n",
    "                {\n",
    "                    \"epoch\": epoch,\n",
    "                    \"model_state_dict\": model.state_dict(),\n",
    "                    \"optimizer_state_dict\": optimizer.state_dict(),\n",
    "                    \"loss\": val_loss,\n",
    "                },\n",
    "                f\"barlow_twins_resnet15_epoch{epoch + 1}.pt\",\n",
    "            )\n",
    "\n",
    "        # Clean up memory\n",
    "        torch.cuda.empty_cache()\n",
    "        gc.collect()\n",
    "\n",
    "    # Save final model\n",
    "    torch.save(model.state_dict(), \"barlow_twins_resnet15_final.pt\")\n",
    "\n",
    "    # Log the final model to wandb\n",
    "    final_artifact = wandb.Artifact(\n",
    "        name=\"model-final\", type=\"model\", description=\"Final trained model\"\n",
    "    )\n",
    "    final_artifact.add_file(\"barlow_twins_resnet15_final.pt\")\n",
    "    wandb.log_artifact(final_artifact)\n",
    "\n",
    "    # Log the validation results table\n",
    "    wandb.log({\"validation_results\": validation_table})\n",
    "\n",
    "    # Report total training time\n",
    "    total_time = time.time() - start_time\n",
    "    print(f\"Training completed in {total_time / 60:.2f} minutes! Final model saved.\")\n",
    "    wandb.run.summary[\"training_time_minutes\"] = total_time / 60\n",
    "\n",
    "    # Close wandb run\n",
    "    wandb.finish()\n",
    "\n",
    "\n",
    "if __name__ == \"__main__\":\n",
    "    main()\n"
   ]
  },
  {
   "cell_type": "markdown",
   "id": "a0ab8557",
   "metadata": {},
   "source": [
    "We are done with the self-supervised training. Now, it's time for fine-tuning the model, and creating a model from scratch using only the labelled dataset. At the end we will compare which odel is better."
   ]
  },
  {
   "cell_type": "code",
   "execution_count": null,
   "id": "c63412f9",
   "metadata": {},
   "outputs": [],
   "source": [
    "import torch.nn as nn\n",
    "from torch.optim import AdamW\n",
    "from torch.optim.lr_scheduler import CosineAnnealingLR\n",
    "from sklearn.model_selection import train_test_split\n",
    "import matplotlib.pyplot as plt"
   ]
  },
  {
   "cell_type": "markdown",
   "id": "4536189a",
   "metadata": {},
   "source": [
    "Here, we define `SupervisedModel` to load the self-supervised model. "
   ]
  },
  {
   "cell_type": "code",
   "execution_count": null,
   "id": "c21e4533",
   "metadata": {},
   "outputs": [],
   "source": [
    "class SupervisedModel(nn.Module):\n",
    "    def __init__(self, backbone, num_classes=1):\n",
    "        super().__init__()\n",
    "        self.backbone = backbone\n",
    "        self.classifier = nn.Linear(512, num_classes)\n",
    "\n",
    "    def forward(self, x):\n",
    "        features = self.backbone(x)\n",
    "        return self.classifier(features)\n",
    "\n",
    "\n",
    "# Dataset class for labelled data\n",
    "class JetDatasetFinetune(Dataset):\n",
    "    def __init__(self, data, targets, transform=None):\n",
    "        self.data = data\n",
    "        self.targets = targets\n",
    "        self.transform = transform\n",
    "\n",
    "    def __len__(self):\n",
    "        return len(self.data)\n",
    "\n",
    "    def __getitem__(self, idx):\n",
    "        x = self.data[idx]\n",
    "        y = self.targets[idx]\n",
    "\n",
    "        if self.transform:\n",
    "            x = self.transform(x)\n",
    "\n",
    "        return x, y\n"
   ]
  },
  {
   "cell_type": "markdown",
   "id": "a848590f",
   "metadata": {},
   "source": [
    "We define other essential modules in this section"
   ]
  },
  {
   "cell_type": "code",
   "execution_count": null,
   "id": "e09ea64a",
   "metadata": {},
   "outputs": [],
   "source": [
    "class EarlyStopping:\n",
    "    def __init__(self, patience=5, min_delta=0):\n",
    "        self.patience = patience\n",
    "        self.min_delta = min_delta\n",
    "        self.counter = 0\n",
    "        self.best_loss = float(\"inf\")\n",
    "        self.best_state = None\n",
    "\n",
    "    def __call__(self, val_loss, model_state):\n",
    "        if val_loss < self.best_loss - self.min_delta:\n",
    "            self.best_loss = val_loss\n",
    "            self.counter = 0\n",
    "            self.best_state = model_state\n",
    "            return False\n",
    "        else:\n",
    "            self.counter += 1\n",
    "            print(f\"Early stopping counter: {self.counter}/{self.patience}\")\n",
    "            if self.counter >= self.patience:\n",
    "                return True\n",
    "            return False\n",
    "\n",
    "\n",
    "def train_one_epoch(model, dataloader, criterion, optimizer, device):\n",
    "    model.train()\n",
    "    running_loss = 0.0\n",
    "    correct = 0\n",
    "    total = 0\n",
    "\n",
    "    progress_bar = tqdm(enumerate(dataloader), total=len(dataloader))\n",
    "\n",
    "    for batch_idx, (inputs, targets) in progress_bar:\n",
    "        inputs, targets = inputs.to(device), targets.to(device)\n",
    "\n",
    "        optimizer.zero_grad()\n",
    "        outputs = model(inputs)\n",
    "        loss = criterion(outputs, targets)\n",
    "        loss.backward()\n",
    "        optimizer.step()\n",
    "\n",
    "        running_loss += loss.item()\n",
    "\n",
    "        predicted = (torch.sigmoid(outputs) > 0.5).float()\n",
    "        total += targets.size(0)\n",
    "        correct += (predicted == targets).sum().item()\n",
    "\n",
    "        progress_bar.set_description(\n",
    "            f\"Loss: {running_loss / (batch_idx + 1):.4f}, Acc: {100.0 * correct / total:.2f}%\"\n",
    "        )\n",
    "\n",
    "    epoch_loss = running_loss / len(dataloader)\n",
    "    epoch_acc = 100.0 * correct / total\n",
    "\n",
    "    return epoch_loss, epoch_acc\n",
    "\n",
    "\n",
    "def evaluate(model, dataloader, criterion, device):\n",
    "    model.eval()\n",
    "    running_loss = 0.0\n",
    "    correct = 0\n",
    "    total = 0\n",
    "\n",
    "    with torch.no_grad():\n",
    "        for inputs, targets in dataloader:\n",
    "            inputs, targets = inputs.to(device), targets.to(device)\n",
    "\n",
    "            outputs = model(inputs)\n",
    "            loss = criterion(outputs, targets)\n",
    "\n",
    "            running_loss += loss.item()\n",
    "\n",
    "            # Calculate predictions\n",
    "            predicted = (torch.sigmoid(outputs) > 0.5).float()\n",
    "            total += targets.size(0)\n",
    "            correct += (predicted == targets).sum().item()\n",
    "\n",
    "    epoch_loss = running_loss / len(dataloader)\n",
    "    epoch_acc = 100.0 * correct / total\n",
    "\n",
    "    return epoch_loss, epoch_acc\n"
   ]
  },
  {
   "cell_type": "markdown",
   "id": "180b6c0b",
   "metadata": {},
   "source": [
    "Now, the final training loop."
   ]
  },
  {
   "cell_type": "code",
   "execution_count": null,
   "id": "ab31df26-e679-4ddc-8e3c-f9d41df6cf08",
   "metadata": {
    "execution": {
     "iopub.execute_input": "2025-04-04T09:38:53.847899Z",
     "iopub.status.busy": "2025-04-04T09:38:53.847583Z",
     "iopub.status.idle": "2025-04-04T12:14:52.842941Z",
     "shell.execute_reply": "2025-04-04T12:14:52.841759Z",
     "shell.execute_reply.started": "2025-04-04T09:38:53.847876Z"
    },
    "trusted": true
   },
   "outputs": [
    {
     "name": "stdout",
     "output_type": "stream",
     "text": [
      "Using device: cuda\n",
      "Loading labelled dataset...\n",
      "Loaded data shapes - Jets: (10000, 125, 125, 8), Labels: (10000, 1)\n",
      "Fine-tuning Pre-trained Model...\n"
     ]
    },
    {
     "name": "stderr",
     "output_type": "stream",
     "text": [
      "<ipython-input-7-1d2451ed6608>:160: FutureWarning: You are using `torch.load` with `weights_only=False` (the current default value), which uses the default pickle module implicitly. It is possible to construct malicious pickle data which will execute arbitrary code during unpickling (See https://github.com/pytorch/pytorch/blob/main/SECURITY.md#untrusted-models for more details). In a future release, the default value for `weights_only` will be flipped to `True`. This limits the functions that could be executed during unpickling. Arbitrary objects will no longer be allowed to be loaded via this mode unless they are explicitly allowlisted by the user via `torch.serialization.add_safe_globals`. We recommend you start setting `weights_only=True` for any use case where you don't have full control of the loaded file. Please open an issue on GitHub for any issues related to this experimental feature.\n",
      "  torch.load(\n"
     ]
    },
    {
     "name": "stdout",
     "output_type": "stream",
     "text": [
      "Phase 1: Training classifier with frozen backbone\n",
      "\n",
      "Epoch 1/10\n"
     ]
    },
    {
     "name": "stderr",
     "output_type": "stream",
     "text": [
      "Loss: 0.6262, Acc: 69.67%: 100%|██████████| 125/125 [01:35<00:00,  1.30it/s]\n"
     ]
    },
    {
     "name": "stdout",
     "output_type": "stream",
     "text": [
      "\n",
      "Epoch 2/10\n"
     ]
    },
    {
     "name": "stderr",
     "output_type": "stream",
     "text": [
      "Loss: 0.5617, Acc: 74.14%: 100%|██████████| 125/125 [01:35<00:00,  1.31it/s]\n"
     ]
    },
    {
     "name": "stdout",
     "output_type": "stream",
     "text": [
      "\n",
      "Epoch 3/10\n"
     ]
    },
    {
     "name": "stderr",
     "output_type": "stream",
     "text": [
      "Loss: 0.5353, Acc: 75.26%: 100%|██████████| 125/125 [01:35<00:00,  1.32it/s]\n"
     ]
    },
    {
     "name": "stdout",
     "output_type": "stream",
     "text": [
      "\n",
      "Epoch 4/10\n"
     ]
    },
    {
     "name": "stderr",
     "output_type": "stream",
     "text": [
      "Loss: 0.5228, Acc: 75.51%: 100%|██████████| 125/125 [01:34<00:00,  1.32it/s]\n"
     ]
    },
    {
     "name": "stdout",
     "output_type": "stream",
     "text": [
      "\n",
      "Epoch 5/10\n"
     ]
    },
    {
     "name": "stderr",
     "output_type": "stream",
     "text": [
      "Loss: 0.5171, Acc: 75.79%: 100%|██████████| 125/125 [01:34<00:00,  1.32it/s]\n"
     ]
    },
    {
     "name": "stdout",
     "output_type": "stream",
     "text": [
      "\n",
      "Epoch 6/10\n"
     ]
    },
    {
     "name": "stderr",
     "output_type": "stream",
     "text": [
      "Loss: 0.5103, Acc: 76.15%: 100%|██████████| 125/125 [01:34<00:00,  1.32it/s]\n"
     ]
    },
    {
     "name": "stdout",
     "output_type": "stream",
     "text": [
      "\n",
      "Epoch 7/10\n"
     ]
    },
    {
     "name": "stderr",
     "output_type": "stream",
     "text": [
      "Loss: 0.5098, Acc: 75.96%: 100%|██████████| 125/125 [01:34<00:00,  1.32it/s]\n"
     ]
    },
    {
     "name": "stdout",
     "output_type": "stream",
     "text": [
      "\n",
      "Epoch 8/10\n"
     ]
    },
    {
     "name": "stderr",
     "output_type": "stream",
     "text": [
      "Loss: 0.5061, Acc: 76.51%: 100%|██████████| 125/125 [01:34<00:00,  1.32it/s]\n"
     ]
    },
    {
     "name": "stdout",
     "output_type": "stream",
     "text": [
      "\n",
      "Epoch 9/10\n"
     ]
    },
    {
     "name": "stderr",
     "output_type": "stream",
     "text": [
      "Loss: 0.5061, Acc: 76.65%: 100%|██████████| 125/125 [01:34<00:00,  1.32it/s]\n"
     ]
    },
    {
     "name": "stdout",
     "output_type": "stream",
     "text": [
      "\n",
      "Epoch 10/10\n"
     ]
    },
    {
     "name": "stderr",
     "output_type": "stream",
     "text": [
      "Loss: 0.5058, Acc: 76.50%: 100%|██████████| 125/125 [01:34<00:00,  1.32it/s]\n"
     ]
    },
    {
     "name": "stdout",
     "output_type": "stream",
     "text": [
      "\n",
      "Phase 2: Fine-tuning entire model\n",
      "\n",
      "Epoch 1/15\n"
     ]
    },
    {
     "name": "stderr",
     "output_type": "stream",
     "text": [
      "Loss: 0.4960, Acc: 77.25%: 100%|██████████| 125/125 [04:32<00:00,  2.18s/it]\n"
     ]
    },
    {
     "name": "stdout",
     "output_type": "stream",
     "text": [
      "\n",
      "Epoch 2/15\n"
     ]
    },
    {
     "name": "stderr",
     "output_type": "stream",
     "text": [
      "Loss: 0.4623, Acc: 79.58%: 100%|██████████| 125/125 [04:32<00:00,  2.18s/it]\n"
     ]
    },
    {
     "name": "stdout",
     "output_type": "stream",
     "text": [
      "\n",
      "Epoch 3/15\n"
     ]
    },
    {
     "name": "stderr",
     "output_type": "stream",
     "text": [
      "Loss: 0.4152, Acc: 83.35%: 100%|██████████| 125/125 [04:32<00:00,  2.18s/it]\n"
     ]
    },
    {
     "name": "stdout",
     "output_type": "stream",
     "text": [
      "\n",
      "Epoch 4/15\n"
     ]
    },
    {
     "name": "stderr",
     "output_type": "stream",
     "text": [
      "Loss: 0.3681, Acc: 85.74%: 100%|██████████| 125/125 [04:32<00:00,  2.18s/it]\n"
     ]
    },
    {
     "name": "stdout",
     "output_type": "stream",
     "text": [
      "\n",
      "Epoch 5/15\n"
     ]
    },
    {
     "name": "stderr",
     "output_type": "stream",
     "text": [
      "Loss: 0.3428, Acc: 87.12%: 100%|██████████| 125/125 [04:32<00:00,  2.18s/it]\n"
     ]
    },
    {
     "name": "stdout",
     "output_type": "stream",
     "text": [
      "\n",
      "Epoch 6/15\n"
     ]
    },
    {
     "name": "stderr",
     "output_type": "stream",
     "text": [
      "Loss: 0.3268, Acc: 87.60%: 100%|██████████| 125/125 [04:32<00:00,  2.18s/it]\n"
     ]
    },
    {
     "name": "stdout",
     "output_type": "stream",
     "text": [
      "\n",
      "Epoch 7/15\n"
     ]
    },
    {
     "name": "stderr",
     "output_type": "stream",
     "text": [
      "Loss: 0.3179, Acc: 87.76%: 100%|██████████| 125/125 [04:32<00:00,  2.18s/it]\n"
     ]
    },
    {
     "name": "stdout",
     "output_type": "stream",
     "text": [
      "\n",
      "Epoch 8/15\n"
     ]
    },
    {
     "name": "stderr",
     "output_type": "stream",
     "text": [
      "Loss: 0.3111, Acc: 88.09%: 100%|██████████| 125/125 [04:32<00:00,  2.18s/it]\n"
     ]
    },
    {
     "name": "stdout",
     "output_type": "stream",
     "text": [
      "\n",
      "Epoch 9/15\n"
     ]
    },
    {
     "name": "stderr",
     "output_type": "stream",
     "text": [
      "Loss: 0.3025, Acc: 88.29%: 100%|██████████| 125/125 [04:32<00:00,  2.18s/it]\n"
     ]
    },
    {
     "name": "stdout",
     "output_type": "stream",
     "text": [
      "\n",
      "Epoch 10/15\n"
     ]
    },
    {
     "name": "stderr",
     "output_type": "stream",
     "text": [
      "Loss: 0.2990, Acc: 88.45%: 100%|██████████| 125/125 [04:32<00:00,  2.18s/it]\n"
     ]
    },
    {
     "name": "stdout",
     "output_type": "stream",
     "text": [
      "\n",
      "Epoch 11/15\n"
     ]
    },
    {
     "name": "stderr",
     "output_type": "stream",
     "text": [
      "Loss: 0.2982, Acc: 88.22%: 100%|██████████| 125/125 [04:32<00:00,  2.18s/it]\n"
     ]
    },
    {
     "name": "stdout",
     "output_type": "stream",
     "text": [
      "\n",
      "Epoch 12/15\n"
     ]
    },
    {
     "name": "stderr",
     "output_type": "stream",
     "text": [
      "Loss: 0.2944, Acc: 88.51%: 100%|██████████| 125/125 [04:32<00:00,  2.18s/it]\n"
     ]
    },
    {
     "name": "stdout",
     "output_type": "stream",
     "text": [
      "\n",
      "Epoch 13/15\n"
     ]
    },
    {
     "name": "stderr",
     "output_type": "stream",
     "text": [
      "Loss: 0.2978, Acc: 88.19%: 100%|██████████| 125/125 [04:32<00:00,  2.18s/it]\n"
     ]
    },
    {
     "name": "stdout",
     "output_type": "stream",
     "text": [
      "Early stopping counter: 1/5\n",
      "\n",
      "Epoch 14/15\n"
     ]
    },
    {
     "name": "stderr",
     "output_type": "stream",
     "text": [
      "Loss: 0.2917, Acc: 88.80%: 100%|██████████| 125/125 [04:32<00:00,  2.18s/it]\n"
     ]
    },
    {
     "name": "stdout",
     "output_type": "stream",
     "text": [
      "\n",
      "Epoch 15/15\n"
     ]
    },
    {
     "name": "stderr",
     "output_type": "stream",
     "text": [
      "Loss: 0.2956, Acc: 88.50%: 100%|██████████| 125/125 [04:32<00:00,  2.18s/it]\n"
     ]
    },
    {
     "name": "stdout",
     "output_type": "stream",
     "text": [
      "Early stopping counter: 1/5\n",
      "\n",
      "Training Model from Scratch...\n",
      "\n",
      "Epoch 1/25\n"
     ]
    },
    {
     "name": "stderr",
     "output_type": "stream",
     "text": [
      "Loss: 0.3964, Acc: 82.94%: 100%|██████████| 125/125 [04:31<00:00,  2.17s/it]\n"
     ]
    },
    {
     "name": "stdout",
     "output_type": "stream",
     "text": [
      "\n",
      "Epoch 2/25\n"
     ]
    },
    {
     "name": "stderr",
     "output_type": "stream",
     "text": [
      "Loss: 0.2923, Acc: 87.92%: 100%|██████████| 125/125 [04:31<00:00,  2.18s/it]\n"
     ]
    },
    {
     "name": "stdout",
     "output_type": "stream",
     "text": [
      "Early stopping counter: 1/7\n",
      "\n",
      "Epoch 3/25\n"
     ]
    },
    {
     "name": "stderr",
     "output_type": "stream",
     "text": [
      "Loss: 0.2782, Acc: 89.08%: 100%|██████████| 125/125 [04:31<00:00,  2.17s/it]\n"
     ]
    },
    {
     "name": "stdout",
     "output_type": "stream",
     "text": [
      "Early stopping counter: 2/7\n",
      "\n",
      "Epoch 4/25\n"
     ]
    },
    {
     "name": "stderr",
     "output_type": "stream",
     "text": [
      "Loss: 0.2675, Acc: 89.72%: 100%|██████████| 125/125 [04:31<00:00,  2.17s/it]\n"
     ]
    },
    {
     "name": "stdout",
     "output_type": "stream",
     "text": [
      "Early stopping counter: 3/7\n",
      "\n",
      "Epoch 5/25\n"
     ]
    },
    {
     "name": "stderr",
     "output_type": "stream",
     "text": [
      "Loss: 0.2586, Acc: 89.66%: 100%|██████████| 125/125 [04:31<00:00,  2.17s/it]\n"
     ]
    },
    {
     "name": "stdout",
     "output_type": "stream",
     "text": [
      "\n",
      "Epoch 6/25\n"
     ]
    },
    {
     "name": "stderr",
     "output_type": "stream",
     "text": [
      "Loss: 0.2503, Acc: 90.10%: 100%|██████████| 125/125 [04:31<00:00,  2.17s/it]\n"
     ]
    },
    {
     "name": "stdout",
     "output_type": "stream",
     "text": [
      "Early stopping counter: 1/7\n",
      "\n",
      "Epoch 7/25\n"
     ]
    },
    {
     "name": "stderr",
     "output_type": "stream",
     "text": [
      "Loss: 0.2359, Acc: 90.41%: 100%|██████████| 125/125 [04:31<00:00,  2.17s/it]\n"
     ]
    },
    {
     "name": "stdout",
     "output_type": "stream",
     "text": [
      "\n",
      "Epoch 8/25\n"
     ]
    },
    {
     "name": "stderr",
     "output_type": "stream",
     "text": [
      "Loss: 0.2206, Acc: 91.36%: 100%|██████████| 125/125 [04:31<00:00,  2.17s/it]\n"
     ]
    },
    {
     "name": "stdout",
     "output_type": "stream",
     "text": [
      "\n",
      "Epoch 9/25\n"
     ]
    },
    {
     "name": "stderr",
     "output_type": "stream",
     "text": [
      "Loss: 0.2033, Acc: 91.88%: 100%|██████████| 125/125 [04:31<00:00,  2.17s/it]\n"
     ]
    },
    {
     "name": "stdout",
     "output_type": "stream",
     "text": [
      "Early stopping counter: 1/7\n",
      "\n",
      "Epoch 10/25\n"
     ]
    },
    {
     "name": "stderr",
     "output_type": "stream",
     "text": [
      "Loss: 0.1877, Acc: 92.86%: 100%|██████████| 125/125 [04:31<00:00,  2.18s/it]\n"
     ]
    },
    {
     "name": "stdout",
     "output_type": "stream",
     "text": [
      "Early stopping counter: 2/7\n",
      "\n",
      "Epoch 11/25\n"
     ]
    },
    {
     "name": "stderr",
     "output_type": "stream",
     "text": [
      "Loss: 0.1567, Acc: 93.94%: 100%|██████████| 125/125 [04:31<00:00,  2.18s/it]\n"
     ]
    },
    {
     "name": "stdout",
     "output_type": "stream",
     "text": [
      "Early stopping counter: 3/7\n",
      "\n",
      "Epoch 12/25\n"
     ]
    },
    {
     "name": "stderr",
     "output_type": "stream",
     "text": [
      "Loss: 0.1270, Acc: 95.28%: 100%|██████████| 125/125 [04:31<00:00,  2.17s/it]\n"
     ]
    },
    {
     "name": "stdout",
     "output_type": "stream",
     "text": [
      "Early stopping counter: 4/7\n",
      "\n",
      "Epoch 13/25\n"
     ]
    },
    {
     "name": "stderr",
     "output_type": "stream",
     "text": [
      "Loss: 0.0919, Acc: 96.75%: 100%|██████████| 125/125 [04:31<00:00,  2.17s/it]\n"
     ]
    },
    {
     "name": "stdout",
     "output_type": "stream",
     "text": [
      "Early stopping counter: 5/7\n",
      "\n",
      "Epoch 14/25\n"
     ]
    },
    {
     "name": "stderr",
     "output_type": "stream",
     "text": [
      "Loss: 0.0642, Acc: 97.81%: 100%|██████████| 125/125 [04:31<00:00,  2.17s/it]\n"
     ]
    },
    {
     "name": "stdout",
     "output_type": "stream",
     "text": [
      "Early stopping counter: 6/7\n",
      "\n",
      "Epoch 15/25\n"
     ]
    },
    {
     "name": "stderr",
     "output_type": "stream",
     "text": [
      "Loss: 0.0345, Acc: 99.05%: 100%|██████████| 125/125 [04:31<00:00,  2.18s/it]\n"
     ]
    },
    {
     "name": "stdout",
     "output_type": "stream",
     "text": [
      "Early stopping counter: 7/7\n",
      "\n",
      "--Model Comparison--\n",
      "Fine-tuned model - Val Loss: 0.3033, Val Acc: 88.70%\n",
      "From-scratch model - Val Loss: 0.6650, Val Acc: 81.35%\n",
      "The fine-tuned model performed better by 7.35%!\n",
      "This demonstrates the value of self-supervised pre-training.\n"
     ]
    },
    {
     "data": {
      "image/png": "[encoded data removed]",
      "text/plain": [
       "<Figure size 1200x500 with 2 Axes>"
      ]
     },
     "metadata": {},
     "output_type": "display_data"
    }
   ],
   "source": [
    "def main():\n",
    "    device = torch.device(\"cuda\" if torch.cuda.is_available() else \"cpu\")\n",
    "    print(f\"Using device: {device}\")\n",
    "\n",
    "    # Load labelled data\n",
    "    print(\"Loading labelled dataset...\")\n",
    "    with h5py.File(\"/kaggle/input/jet-vit-cms/labelled.h5\", \"r\") as f:\n",
    "        jet_data = np.array(f[\"jet\"])\n",
    "        labels = np.array(f[\"Y\"])\n",
    "\n",
    "    print(f\"Loaded data shapes - Jets: {jet_data.shape}, Labels: {labels.shape}\")\n",
    "\n",
    "    # Split into train (80%) and validation (20%)\n",
    "    train_jet, val_jet, train_labels, val_labels = train_test_split(\n",
    "        jet_data, labels, test_size=0.2, random_state=42\n",
    "    )\n",
    "\n",
    "    # Convert to tensors\n",
    "    train_jet = torch.from_numpy(train_jet).float()\n",
    "    val_jet = torch.from_numpy(val_jet).float()\n",
    "    train_labels = torch.from_numpy(train_labels).float()\n",
    "    val_labels = torch.from_numpy(val_labels).float()\n",
    "\n",
    "    # Create datasets and dataloaders\n",
    "    train_dataset = JetDatasetFinetune(train_jet, train_labels)\n",
    "    val_dataset = JetDatasetFinetune(val_jet, val_labels)\n",
    "\n",
    "    batch_size = 64\n",
    "    train_loader = DataLoader(\n",
    "        train_dataset, batch_size=batch_size, shuffle=True, num_workers=4\n",
    "    )\n",
    "    val_loader = DataLoader(\n",
    "        val_dataset, batch_size=batch_size, shuffle=False, num_workers=4\n",
    "    )\n",
    "\n",
    "    # Load pre-trained model\n",
    "    print(\"Fine-tuning Pre-trained Model...\")\n",
    "\n",
    "    pretrained_model = BarlowTwinsModel()\n",
    "    pretrained_model.load_state_dict(\n",
    "        torch.load(\n",
    "            \"/kaggle/input/selfsupervisedresnet-cmsjet-barlowtwinsloss/pytorch/default/1/barlow_twins_resnet15_final.pt\"\n",
    "        )\n",
    "    )\n",
    "\n",
    "    # Create supervised model with pre-trained backbone\n",
    "    fine_tuned_model = SupervisedModel(pretrained_model.backbone)\n",
    "    fine_tuned_model.to(device)\n",
    "\n",
    "    # Freeze backbone initially\n",
    "    for param in fine_tuned_model.backbone.parameters():\n",
    "        param.requires_grad = False\n",
    "\n",
    "    # Training settings\n",
    "    criterion = nn.BCEWithLogitsLoss()\n",
    "    optimizer = AdamW(\n",
    "        filter(lambda p: p.requires_grad, fine_tuned_model.parameters()),\n",
    "        lr=1e-3,\n",
    "        weight_decay=0.01,\n",
    "    )\n",
    "    scheduler = CosineAnnealingLR(optimizer, T_max=10)\n",
    "    early_stopping = EarlyStopping(patience=5)\n",
    "\n",
    "    # Phase 1: Train only classifier\n",
    "    print(\"Phase 1: Training classifier with frozen backbone\")\n",
    "    ft_losses, ft_accs, ft_val_losses, ft_val_accs = [], [], [], []\n",
    "\n",
    "    for epoch in range(10):\n",
    "        print(f\"\\nEpoch {epoch + 1}/10\")\n",
    "        loss, acc = train_one_epoch(\n",
    "            fine_tuned_model, train_loader, criterion, optimizer, device\n",
    "        )\n",
    "        val_loss, val_acc = evaluate(fine_tuned_model, val_loader, criterion, device)\n",
    "\n",
    "        ft_losses.append(loss)\n",
    "        ft_accs.append(acc)\n",
    "        ft_val_losses.append(val_loss)\n",
    "        ft_val_accs.append(val_acc)\n",
    "\n",
    "        scheduler.step()\n",
    "\n",
    "        if early_stopping(val_loss, fine_tuned_model.state_dict()):\n",
    "            fine_tuned_model.load_state_dict(early_stopping.best_state)\n",
    "            break\n",
    "\n",
    "    # Phase 2: Fine-tune entire model\n",
    "    print(\"\\nPhase 2: Fine-tuning entire model\")\n",
    "    # Unfreeze backbone\n",
    "    for param in fine_tuned_model.backbone.parameters():\n",
    "        param.requires_grad = True\n",
    "\n",
    "    optimizer = AdamW(fine_tuned_model.parameters(), lr=1e-5, weight_decay=0.01)\n",
    "    scheduler = CosineAnnealingLR(optimizer, T_max=15)\n",
    "    early_stopping = EarlyStopping(patience=5)\n",
    "\n",
    "    for epoch in range(15):\n",
    "        print(f\"\\nEpoch {epoch + 1}/15\")\n",
    "        loss, acc = train_one_epoch(\n",
    "            fine_tuned_model, train_loader, criterion, optimizer, device\n",
    "        )\n",
    "        val_loss, val_acc = evaluate(fine_tuned_model, val_loader, criterion, device)\n",
    "\n",
    "        ft_losses.append(loss)\n",
    "        ft_accs.append(acc)\n",
    "        ft_val_losses.append(val_loss)\n",
    "        ft_val_accs.append(val_acc)\n",
    "\n",
    "        scheduler.step()\n",
    "\n",
    "        if early_stopping(val_loss, fine_tuned_model.state_dict()):\n",
    "            fine_tuned_model.load_state_dict(early_stopping.best_state)\n",
    "            break\n",
    "\n",
    "    # Save fine-tuned model\n",
    "    torch.save(fine_tuned_model.state_dict(), \"fine_tuned_model.pt\")\n",
    "\n",
    "    # Clean up memory\n",
    "    del pretrained_model\n",
    "    gc.collect()\n",
    "    torch.cuda.empty_cache()\n",
    "\n",
    "    # Train from scratch\n",
    "    print(\"\\nTraining Model from Scratch...\")\n",
    "    scratch_backbone = ResNet15(in_channels=8)\n",
    "    scratch_model = SupervisedModel(scratch_backbone)\n",
    "    scratch_model.to(device)\n",
    "\n",
    "    optimizer = AdamW(scratch_model.parameters(), lr=1e-3, weight_decay=0.01)\n",
    "    scheduler = CosineAnnealingLR(optimizer, T_max=25)\n",
    "    early_stopping = EarlyStopping(patience=7)\n",
    "\n",
    "    scratch_losses, scratch_accs, scratch_val_losses, scratch_val_accs = [], [], [], []\n",
    "\n",
    "    for epoch in range(25):\n",
    "        print(f\"\\nEpoch {epoch + 1}/25\")\n",
    "        loss, acc = train_one_epoch(\n",
    "            scratch_model, train_loader, criterion, optimizer, device\n",
    "        )\n",
    "        val_loss, val_acc = evaluate(scratch_model, val_loader, criterion, device)\n",
    "\n",
    "        scratch_losses.append(loss)\n",
    "        scratch_accs.append(acc)\n",
    "        scratch_val_losses.append(val_loss)\n",
    "        scratch_val_accs.append(val_acc)\n",
    "\n",
    "        scheduler.step()\n",
    "\n",
    "        if early_stopping(val_loss, scratch_model.state_dict()):\n",
    "            scratch_model.load_state_dict(early_stopping.best_state)\n",
    "            break\n",
    "\n",
    "    # Save from-scratch model\n",
    "    torch.save(scratch_model.state_dict(), \"scratch_model.pt\")\n",
    "\n",
    "    # Compare models\n",
    "    print(\"\\n--Model Comparison--\")\n",
    "    ft_val_loss, ft_val_acc = evaluate(fine_tuned_model, val_loader, criterion, device)\n",
    "    scratch_val_loss, scratch_val_acc = evaluate(\n",
    "        scratch_model, val_loader, criterion, device\n",
    "    )\n",
    "\n",
    "    print(f\"Fine-tuned model - Val Loss: {ft_val_loss:.4f}, Val Acc: {ft_val_acc:.2f}%\")\n",
    "    print(\n",
    "        f\"From-scratch model - Val Loss: {scratch_val_loss:.4f}, Val Acc: {scratch_val_acc:.2f}%\"\n",
    "    )\n",
    "\n",
    "    # Plot comparison curves\n",
    "    plt.figure(figsize=(12, 5))\n",
    "    plt.subplot(1, 2, 1)\n",
    "    plt.plot(ft_val_accs, label=\"Fine-tuned\")\n",
    "    plt.plot(scratch_val_accs, label=\"From Scratch\")\n",
    "    plt.title(\"Validation Accuracy\")\n",
    "    plt.xlabel(\"Epoch\")\n",
    "    plt.ylabel(\"Accuracy (%)\")\n",
    "    plt.legend()\n",
    "\n",
    "    plt.subplot(1, 2, 2)\n",
    "    plt.plot(ft_val_losses, label=\"Fine-tuned\")\n",
    "    plt.plot(scratch_val_losses, label=\"From Scratch\")\n",
    "    plt.title(\"Validation Loss\")\n",
    "    plt.xlabel(\"Epoch\")\n",
    "    plt.ylabel(\"Loss\")\n",
    "    plt.legend()\n",
    "\n",
    "    plt.tight_layout()\n",
    "    plt.savefig(\"model_comparison.png\")\n",
    "\n",
    "    if ft_val_acc > scratch_val_acc:\n",
    "        print(\n",
    "            f\"The fine-tuned model performed better by {ft_val_acc - scratch_val_acc:.2f}%!\"\n",
    "        )\n",
    "        print(\"This demonstrates the value of self-supervised pre-training.\")\n",
    "    else:\n",
    "        print(\n",
    "            f\"The from-scratch model performed better by {scratch_val_acc - ft_val_acc:.2f}%.\"\n",
    "        )\n",
    "\n",
    "\n",
    "if __name__ == \"__main__\":\n",
    "    main()\n"
   ]
  },
  {
   "cell_type": "markdown",
   "id": "bd533d8b",
   "metadata": {},
   "source": [
    "The finetuned model is saved as `fine_tuned_model.pt` and the model trained from scratch is `scratch_model.pt`"
   ]
  }
 ],
 "metadata": {
  "kaggle": {
   "accelerator": "gpu",
   "dataSources": [
    {
     "datasetId": 7036069,
     "sourceId": 11258234,
     "sourceType": "datasetVersion"
    },
    {
     "isSourceIdPinned": true,
     "modelId": 291294,
     "modelInstanceId": 270306,
     "sourceId": 320488,
     "sourceType": "modelInstanceVersion"
    }
   ],
   "dockerImageVersionId": 30919,
   "isGpuEnabled": true,
   "isInternetEnabled": true,
   "language": "python",
   "sourceType": "notebook"
  },
  "kernelspec": {
   "display_name": "torch",
   "language": "python",
   "name": "python3"
  },
  "language_info": {
   "codemirror_mode": {
    "name": "ipython",
    "version": 3
   },
   "file_extension": ".py",
   "mimetype": "text/x-python",
   "name": "python",
   "nbconvert_exporter": "python",
   "pygments_lexer": "ipython3",
   "version": "3.12.8"
  },
  "papermill": {
   "default_parameters": {},
   "duration": 12067.993242,
   "end_time": "2025-04-03T13:16:16.316286",
   "environment_variables": {},
   "exception": null,
   "input_path": "__notebook__.ipynb",
   "output_path": "__notebook__.ipynb",
   "parameters": {},
   "start_time": "2025-04-03T09:55:08.323044",
   "version": "2.6.0"
  }
 },
 "nbformat": 4,
 "nbformat_minor": 5
}
